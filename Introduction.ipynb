{
 "cells": [
  {
   "cell_type": "code",
   "execution_count": 4,
   "metadata": {},
   "outputs": [
    {
     "name": "stdout",
     "output_type": "stream",
     "text": [
      "Python: 3.7.4 (default, Aug 13 2019, 20:35:49) \n",
      "[GCC 7.3.0]\n",
      "NumPy: 1.17.2\n"
     ]
    }
   ],
   "source": [
    "import sys\n",
    "import numpy as np #mathematical library \n",
    "\n",
    "print (\"Python: {}\" .format(sys.version))\n",
    "print (\"NumPy: {}\" .format(np.__version__))"
   ]
  },
  {
   "cell_type": "code",
   "execution_count": 7,
   "metadata": {},
   "outputs": [
    {
     "name": "stdout",
     "output_type": "stream",
     "text": [
      "El valor de x = 6\n"
     ]
    }
   ],
   "source": [
    "#Definiendo un escalar\n",
    "x = 6 \n",
    "print (\"El valor de x =\",x )"
   ]
  },
  {
   "cell_type": "code",
   "execution_count": 26,
   "metadata": {},
   "outputs": [
    {
     "name": "stdout",
     "output_type": "stream",
     "text": [
      "El vector es x : [1 2 3]\n"
     ]
    }
   ],
   "source": [
    "#Definiendo un vector \n",
    "x = np.array((1,2,3))\n",
    "print (\"El vector es x :\", x)"
   ]
  },
  {
   "cell_type": "code",
   "execution_count": 18,
   "metadata": {},
   "outputs": [
    {
     "name": "stdout",
     "output_type": "stream",
     "text": [
      "La dimension del vector: (3,)\n",
      "El tamaño del vector: 3\n"
     ]
    }
   ],
   "source": [
    "print (\"La dimension del vector:\",format(x.shape))\n",
    "print (\"El tamaño del vector:\" ,format(x.size))"
   ]
  },
  {
   "cell_type": "code",
   "execution_count": 29,
   "metadata": {},
   "outputs": [
    {
     "name": "stdout",
     "output_type": "stream",
     "text": [
      "La matriz x: [[1 2 3]\n",
      " [4 5 6]\n",
      " [7 8 9]]\n",
      " \n"
     ]
    },
    {
     "data": {
      "text/plain": [
       "matrix([[1, 2, 3],\n",
       "        [4, 5, 6],\n",
       "        [7, 8, 9]])"
      ]
     },
     "execution_count": 29,
     "metadata": {},
     "output_type": "execute_result"
    }
   ],
   "source": [
    "#Definiendo una matriz \n",
    "x=np.matrix([[1,2,3],[4,5,6],[7,8,9]])\n",
    "print(\"La matriz x:\",x)\n",
    "print(\" \")\n",
    "x"
   ]
  },
  {
   "cell_type": "code",
   "execution_count": 31,
   "metadata": {},
   "outputs": [
    {
     "name": "stdout",
     "output_type": "stream",
     "text": [
      "La dimension de la matriz es: (3, 3)\n",
      "El tamaño de la matriz es: 9\n"
     ]
    }
   ],
   "source": [
    "print(\"La dimension de la matriz es:\", format(x.shape))\n",
    "print(\"El tamaño de la matriz es:\", format(x.size))"
   ]
  },
  {
   "cell_type": "code",
   "execution_count": 39,
   "metadata": {},
   "outputs": [
    {
     "name": "stdout",
     "output_type": "stream",
     "text": [
      "La matriz x: [[0. 0. 0.]\n",
      " [0. 0. 0.]\n",
      " [0. 0. 0.]]\n",
      "\n",
      "La matriz y: [[1. 1. 1. 1. 1.]\n",
      " [1. 1. 1. 1. 1.]\n",
      " [1. 1. 1. 1. 1.]\n",
      " [1. 1. 1. 1. 1.]\n",
      " [1. 1. 1. 1. 1.]]\n",
      "\n"
     ]
    }
   ],
   "source": [
    "#Definir una matriz de una dimension dada\n",
    "x=np.zeros((3,3))\n",
    "print(\"La matriz x:\",x)\n",
    "print(\"\") \n",
    "y=np.ones((5,5))\n",
    "print(\"La matriz y:\",y)\n",
    "print(\"\")"
   ]
  },
  {
   "cell_type": "code",
   "execution_count": 40,
   "metadata": {},
   "outputs": [
    {
     "name": "stdout",
     "output_type": "stream",
     "text": [
      "La dimension de la matriz X es: (3, 3)\n",
      "El tamaño de la matriz X es: 9\n",
      "La dimension de la matriz Y es: (5, 5)\n",
      "El tamaño de la matriz Y es: 25\n"
     ]
    }
   ],
   "source": [
    "print(\"La dimension de la matriz X es:\", format(x.shape))\n",
    "print(\"El tamaño de la matriz X es:\", format(x.size))\n",
    "print(\"La dimension de la matriz Y es:\", format(y.shape))\n",
    "print(\"El tamaño de la matriz Y es:\", format(y.size))"
   ]
  },
  {
   "cell_type": "code",
   "execution_count": 42,
   "metadata": {},
   "outputs": [
    {
     "data": {
      "text/plain": [
       "array([[[1., 1., 1.],\n",
       "        [1., 1., 1.],\n",
       "        [1., 1., 1.]],\n",
       "\n",
       "       [[1., 1., 1.],\n",
       "        [1., 1., 1.],\n",
       "        [1., 1., 1.]],\n",
       "\n",
       "       [[1., 1., 1.],\n",
       "        [1., 1., 1.],\n",
       "        [1., 1., 1.]]])"
      ]
     },
     "execution_count": 42,
     "metadata": {},
     "output_type": "execute_result"
    }
   ],
   "source": [
    "#Definiendo tensor\n",
    "x = np.ones((3,3,3))\n",
    "#print(\"El tensor x es:\",x)\n",
    "x\n",
    "#El punto final del digito indica que son valores de punto flotante \"float values\""
   ]
  },
  {
   "cell_type": "code",
   "execution_count": 43,
   "metadata": {},
   "outputs": [
    {
     "name": "stdout",
     "output_type": "stream",
     "text": [
      "La dimension del Tensor X es: (3, 3, 3)\n",
      "El tamaño del Tensor X es: 27\n"
     ]
    }
   ],
   "source": [
    "print(\"La dimension del Tensor X es:\", format(x.shape))\n",
    "print(\"El tamaño del Tensor X es:\", format(x.size))"
   ]
  },
  {
   "cell_type": "code",
   "execution_count": 47,
   "metadata": {},
   "outputs": [
    {
     "name": "stdout",
     "output_type": "stream",
     "text": [
      " [[1 1 1 1 1]\n",
      " [1 1 1 1 1]\n",
      " [1 1 1 1 1]\n",
      " [1 1 1 1 1]\n",
      " [1 1 1 1 1]]\n"
     ]
    }
   ],
   "source": [
    "#indexing \n",
    "A = np.ones((5,5), dtype=int)\n",
    "print (\"\",A)"
   ]
  },
  {
   "cell_type": "code",
   "execution_count": 50,
   "metadata": {},
   "outputs": [
    {
     "name": "stdout",
     "output_type": "stream",
     "text": [
      " [[1 2 1 1 1]\n",
      " [1 1 1 1 1]\n",
      " [1 1 1 1 1]\n",
      " [1 1 1 1 1]\n",
      " [1 1 1 1 1]]\n"
     ]
    }
   ],
   "source": [
    "#indexacion comienza en 0 \n",
    "A[0,1]=2\n",
    "print (\"\",A)"
   ]
  },
  {
   "cell_type": "code",
   "execution_count": 51,
   "metadata": {},
   "outputs": [
    {
     "name": "stdout",
     "output_type": "stream",
     "text": [
      " [[3 2 1 1 1]\n",
      " [3 1 1 1 1]\n",
      " [3 1 1 1 1]\n",
      " [3 1 1 1 1]\n",
      " [3 1 1 1 1]]\n"
     ]
    }
   ],
   "source": [
    "A[:,0]=3\n",
    "print(\"\",A)"
   ]
  },
  {
   "cell_type": "code",
   "execution_count": 54,
   "metadata": {},
   "outputs": [
    {
     "name": "stdout",
     "output_type": "stream",
     "text": [
      "[[5 5 5 5 5]\n",
      " [5 5 5 5 5]\n",
      " [5 5 5 5 5]\n",
      " [5 5 5 5 5]\n",
      " [5 5 5 5 5]]\n"
     ]
    }
   ],
   "source": [
    "A[:,:]=5\n",
    "#print(\"\",A)\n",
    "print (A)"
   ]
  },
  {
   "cell_type": "code",
   "execution_count": 58,
   "metadata": {},
   "outputs": [
    {
     "name": "stdout",
     "output_type": "stream",
     "text": [
      "[[[0 0 0 0 0]\n",
      "  [0 0 0 0 0]\n",
      "  [0 0 0 0 0]\n",
      "  [0 0 0 0 0]\n",
      "  [0 0 0 0 0]]\n",
      "\n",
      " [[0 0 0 0 0]\n",
      "  [0 0 0 0 0]\n",
      "  [0 0 0 0 0]\n",
      "  [0 0 0 0 0]\n",
      "  [0 0 0 0 0]]\n",
      "\n",
      " [[0 0 0 0 0]\n",
      "  [0 0 0 0 0]\n",
      "  [0 0 0 0 0]\n",
      "  [0 0 0 0 0]\n",
      "  [0 0 0 0 0]]\n",
      "\n",
      " [[0 0 0 0 0]\n",
      "  [0 0 0 0 0]\n",
      "  [0 0 0 0 0]\n",
      "  [0 0 0 0 0]\n",
      "  [0 0 0 0 0]]\n",
      "\n",
      " [[0 0 0 0 0]\n",
      "  [0 0 0 0 0]\n",
      "  [0 0 0 0 0]\n",
      "  [0 0 0 0 0]\n",
      "  [0 0 0 0 0]]]\n",
      "[[[1 1 1 1 1]\n",
      "  [1 1 1 1 1]\n",
      "  [1 1 1 1 1]\n",
      "  [1 1 1 1 1]\n",
      "  [1 1 1 1 1]]\n",
      "\n",
      " [[1 1 1 1 1]\n",
      "  [1 1 1 1 1]\n",
      "  [1 1 1 1 1]\n",
      "  [1 1 1 1 1]\n",
      "  [1 1 1 1 1]]\n",
      "\n",
      " [[1 1 1 1 1]\n",
      "  [1 1 1 1 1]\n",
      "  [1 1 1 1 1]\n",
      "  [1 1 1 1 1]\n",
      "  [1 1 1 1 1]]\n",
      "\n",
      " [[1 1 1 1 1]\n",
      "  [1 1 1 1 1]\n",
      "  [1 1 1 1 1]\n",
      "  [1 1 1 1 1]\n",
      "  [1 1 1 1 1]]\n",
      "\n",
      " [[1 1 1 1 1]\n",
      "  [1 1 1 1 1]\n",
      "  [1 1 1 1 1]\n",
      "  [1 1 1 1 1]\n",
      "  [1 1 1 1 1]]]\n"
     ]
    }
   ],
   "source": [
    "\n",
    "A = np.zeros((5,5,5),dtype=np.int)\n",
    "print(A)\n",
    "A[:,:]=1\n",
    "print(A)"
   ]
  },
  {
   "cell_type": "code",
   "execution_count": 59,
   "metadata": {},
   "outputs": [
    {
     "name": "stdout",
     "output_type": "stream",
     "text": [
      "[[[6 1 1 1 1]\n",
      "  [1 1 1 1 1]\n",
      "  [1 1 1 1 1]\n",
      "  [1 1 1 1 1]\n",
      "  [1 1 1 1 1]]\n",
      "\n",
      " [[6 1 1 1 1]\n",
      "  [1 1 1 1 1]\n",
      "  [1 1 1 1 1]\n",
      "  [1 1 1 1 1]\n",
      "  [1 1 1 1 1]]\n",
      "\n",
      " [[6 1 1 1 1]\n",
      "  [1 1 1 1 1]\n",
      "  [1 1 1 1 1]\n",
      "  [1 1 1 1 1]\n",
      "  [1 1 1 1 1]]\n",
      "\n",
      " [[6 1 1 1 1]\n",
      "  [1 1 1 1 1]\n",
      "  [1 1 1 1 1]\n",
      "  [1 1 1 1 1]\n",
      "  [1 1 1 1 1]]\n",
      "\n",
      " [[6 1 1 1 1]\n",
      "  [1 1 1 1 1]\n",
      "  [1 1 1 1 1]\n",
      "  [1 1 1 1 1]\n",
      "  [1 1 1 1 1]]]\n"
     ]
    }
   ],
   "source": [
    "#Agregar dimensiones mediante indexacion \n",
    "A = np.ones((5,5,5),dtype=np.int)\n",
    "#Asignar a la primer fila un nuevo valor \n",
    "A[:,0,0]=6\n",
    "print(A)"
   ]
  },
  {
   "cell_type": "code",
   "execution_count": 68,
   "metadata": {},
   "outputs": [
    {
     "name": "stdout",
     "output_type": "stream",
     "text": [
      "La matriz A es: [[2 3]\n",
      " [4 5]]\n",
      "La matriz B es: [[1 1]\n",
      " [1 1]]\n"
     ]
    }
   ],
   "source": [
    "#operaciones con matrices\n",
    "A = np.matrix([[2,3],[4,5]])\n",
    "B = np.ones((2,2),dtype=np.int)\n",
    "print(\"La matriz A es:\",A)\n",
    "print(\"La matriz B es:\",B)"
   ]
  },
  {
   "cell_type": "code",
   "execution_count": 70,
   "metadata": {},
   "outputs": [
    {
     "name": "stdout",
     "output_type": "stream",
     "text": [
      "A + B =\n",
      "[[3 4]\n",
      " [5 6]]\n"
     ]
    }
   ],
   "source": [
    "C = A+B\n",
    "print(\"A + B =\")\n",
    "print(C)"
   ]
  },
  {
   "cell_type": "code",
   "execution_count": 71,
   "metadata": {},
   "outputs": [
    {
     "name": "stdout",
     "output_type": "stream",
     "text": [
      "A-B =\n",
      "[[1 2]\n",
      " [3 4]]\n"
     ]
    }
   ],
   "source": [
    "C=A-B\n",
    "print(\"A - B =\")\n",
    "print (C)"
   ]
  },
  {
   "cell_type": "code",
   "execution_count": 72,
   "metadata": {},
   "outputs": [
    {
     "name": "stdout",
     "output_type": "stream",
     "text": [
      "A * B =\n",
      "[[5 5]\n",
      " [9 9]]\n"
     ]
    }
   ],
   "source": [
    "C=A*B\n",
    "print(\"A * B =\")\n",
    "print(C)\n"
   ]
  },
  {
   "cell_type": "code",
   "execution_count": 78,
   "metadata": {},
   "outputs": [
    {
     "name": "stdout",
     "output_type": "stream",
     "text": [
      "EL vector renglon A es : [0 1 2 3 4 5 6 7 8]\n",
      "La matriz A es : [[0 1 2]\n",
      " [3 4 5]\n",
      " [6 7 8]]\n",
      "La transpuesta de A es:\n",
      "[[0 3 6]\n",
      " [1 4 7]\n",
      " [2 5 8]]\n",
      "La transpuesta de la transpuesta es la original:\n",
      "[[0 1 2]\n",
      " [3 4 5]\n",
      " [6 7 8]]\n"
     ]
    }
   ],
   "source": [
    "#la transpuesta de la matriz\n",
    "A=np.array(range(9))\n",
    "print(\"EL vector renglon A es :\",A)\n",
    "A=A.reshape(3,3)\n",
    "print(\"La matriz A es :\", A)\n",
    "B = A.T\n",
    "print(\"La transpuesta de A es:\")\n",
    "print (B)\n",
    "C=B.T\n",
    "print(\"La transpuesta de la transpuesta es la original:\")\n",
    "print(C)\n"
   ]
  },
  {
   "cell_type": "code",
   "execution_count": 86,
   "metadata": {},
   "outputs": [
    {
     "name": "stdout",
     "output_type": "stream",
     "text": [
      "[0 1 2 3 4 5 6 7 8 9]\n",
      "La dimension es : 10\n",
      "\n",
      "[[0 1 2 3 4]\n",
      " [5 6 7 8 9]]\n",
      "La dimension es : (2, 5)\n",
      "Transponiendo:\n",
      "[[0 5]\n",
      " [1 6]\n",
      " [2 7]\n",
      " [3 8]\n",
      " [4 9]]\n",
      "La dimension es : (5, 2)\n"
     ]
    }
   ],
   "source": [
    "A = np.array(range(10))\n",
    "print(A)\n",
    "print(\"La dimension es :\",A.size)\n",
    "print (\"\")\n",
    "A = A.reshape(2,5)\n",
    "print (A)\n",
    "print(\"La dimension es :\",A.shape)\n",
    "B=A.T\n",
    "print(\"Transponiendo:\")\n",
    "print(B)\n",
    "print(\"La dimension es :\",B.shape)"
   ]
  },
  {
   "cell_type": "code",
   "execution_count": 91,
   "metadata": {},
   "outputs": [
    {
     "name": "stdout",
     "output_type": "stream",
     "text": [
      "(3, 3, 3, 3, 3, 3, 3, 3, 3, 3)\n",
      "Su dimension es : 10\n",
      "59049\n"
     ]
    }
   ],
   "source": [
    "#Tensores \n",
    "A = np.ones((3,3,3,3,3,3,3,3,3,3))\n",
    "print(A.shape)\n",
    "print(\"Su dimension es :\", len(A.shape))\n",
    "print(A.size)"
   ]
  },
  {
   "cell_type": "code",
   "execution_count": null,
   "metadata": {},
   "outputs": [],
   "source": []
  }
 ],
 "metadata": {
  "kernelspec": {
   "display_name": "Python 3",
   "language": "python",
   "name": "python3"
  },
  "language_info": {
   "codemirror_mode": {
    "name": "ipython",
    "version": 3
   },
   "file_extension": ".py",
   "mimetype": "text/x-python",
   "name": "python",
   "nbconvert_exporter": "python",
   "pygments_lexer": "ipython3",
   "version": "3.7.4"
  }
 },
 "nbformat": 4,
 "nbformat_minor": 4
}
