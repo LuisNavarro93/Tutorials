{
 "cells": [
  {
   "cell_type": "code",
   "execution_count": 1,
   "metadata": {},
   "outputs": [],
   "source": [
    "import numpy as np"
   ]
  },
  {
   "cell_type": "markdown",
   "metadata": {},
   "source": [
    "### Arrays in Numpy"
   ]
  },
  {
   "cell_type": "code",
   "execution_count": 11,
   "metadata": {},
   "outputs": [],
   "source": [
    "#Create a 2-D array\n",
    "x = np.array(((1,5),(3,45)))\n",
    "x1 = np.array([[1,5],[3,45]]) # <- Different tyoe of nomenclature"
   ]
  },
  {
   "cell_type": "code",
   "execution_count": 18,
   "metadata": {},
   "outputs": [
    {
     "name": "stdout",
     "output_type": "stream",
     "text": [
      "Vector x : \n",
      " [[ 1  5]\n",
      " [ 3 45]]\n",
      "Forma de x: \n",
      " (2, 2)\n",
      "Dimension de x: \n",
      " 2\n",
      "Numero de elementos en x: \n",
      " 4 \n",
      "\n",
      "Vector x1 : \n",
      " [[ 1  5]\n",
      " [ 3 45]]\n",
      "Forma de x1: \n",
      " (2, 2)\n",
      "Dimension de x1: \n",
      " 2\n",
      "Numero de elementos en x1: \n",
      " 4 \n",
      "\n"
     ]
    }
   ],
   "source": [
    "print(\"Vector x :\",\"\\n\",x)\n",
    "print(\"Forma de x:\",\"\\n\",x.shape)\n",
    "print(\"Dimension de x:\",\"\\n\",x.ndim)\n",
    "print(\"Numero de elementos en x:\",\"\\n\",x.size,\"\\n\")\n",
    "print(\"Vector x1 :\",\"\\n\",x1)\n",
    "print(\"Forma de x1:\",\"\\n\",x1.shape)\n",
    "print(\"Dimension de x1:\",\"\\n\",x1.ndim)\n",
    "print(\"Numero de elementos en x1:\",\"\\n\",x1.size,\"\\n\")"
   ]
  },
  {
   "cell_type": "code",
   "execution_count": 19,
   "metadata": {},
   "outputs": [],
   "source": [
    "#Create a 3-D array\n",
    "x = np.array(((1,5,3),(3,45,5),(4,2,3)))\n",
    "x1 = np.array([[1,5,3],[3,45,5],[4,2,3]]) # <- Different tyoe of nomenclature"
   ]
  },
  {
   "cell_type": "code",
   "execution_count": 26,
   "metadata": {},
   "outputs": [
    {
     "name": "stdout",
     "output_type": "stream",
     "text": [
      "Vector x : \n",
      " [[ 1  5  3]\n",
      " [ 3 45  5]\n",
      " [ 4  2  3]]\n",
      "Forma de x: \n",
      " (3, 3)\n",
      "Dimension de x: \n",
      " 2\n",
      "Numero de elementos en x: \n",
      " 9 \n",
      "\n",
      "Vector x1 : \n",
      " [[ 1  5  3]\n",
      " [ 3 45  5]\n",
      " [ 4  2  3]]\n",
      "Forma de x1: \n",
      " (3, 3)\n",
      "Dimension de x1: \n",
      " 2\n",
      "Numero de elementos en x1: \n",
      " 9 \n",
      "\n"
     ]
    }
   ],
   "source": [
    "#Atributos\n",
    "print(\"Vector x :\",\"\\n\",x)\n",
    "print(\"Forma de x:\",\"\\n\",x.shape)\n",
    "print(\"Dimension de x:\",\"\\n\",x.ndim)\n",
    "print(\"Numero de elementos en x:\",\"\\n\",x.size,\"\\n\")\n",
    "print(\"Vector x1 :\",\"\\n\",x1)\n",
    "print(\"Forma de x1:\",\"\\n\",x1.shape)\n",
    "print(\"Dimension de x1:\",\"\\n\",x1.ndim)\n",
    "print(\"Numero de elementos en x1:\",\"\\n\",x1.size,\"\\n\")"
   ]
  },
  {
   "cell_type": "markdown",
   "metadata": {},
   "source": [
    "### Vectors in numpy"
   ]
  },
  {
   "cell_type": "code",
   "execution_count": 27,
   "metadata": {},
   "outputs": [],
   "source": [
    "#Create a vector\n",
    "V1=np.array((1,5))"
   ]
  },
  {
   "cell_type": "code",
   "execution_count": 31,
   "metadata": {},
   "outputs": [
    {
     "name": "stdout",
     "output_type": "stream",
     "text": [
      "Vector V1: \n",
      " [1 5]\n",
      "Forma de V1: \n",
      " (2,)\n"
     ]
    }
   ],
   "source": [
    "print(\"Vector V1:\",\"\\n\",V1)\n",
    "print(\"Forma de V1:\",\"\\n\",V1.shape)"
   ]
  },
  {
   "cell_type": "code",
   "execution_count": 33,
   "metadata": {},
   "outputs": [
    {
     "name": "stdout",
     "output_type": "stream",
     "text": [
      "Vector V2: \n",
      " [[1]\n",
      " [5]]\n"
     ]
    }
   ],
   "source": [
    "#Reshape V1 into a column vector V2\n",
    "V2=V1.reshape((2,1))\n",
    "print(\"Vector V2:\",\"\\n\",V2)"
   ]
  },
  {
   "cell_type": "code",
   "execution_count": 34,
   "metadata": {},
   "outputs": [
    {
     "name": "stdout",
     "output_type": "stream",
     "text": [
      "Vector V3: \n",
      " [[1 5]]\n"
     ]
    }
   ],
   "source": [
    "#Reshape V2 back into a column vector V3\n",
    "V3=V2.reshape((1,2))\n",
    "print(\"Vector V3:\",\"\\n\",V3)"
   ]
  },
  {
   "cell_type": "markdown",
   "metadata": {},
   "source": [
    "## Flatten Vector"
   ]
  },
  {
   "cell_type": "code",
   "execution_count": 40,
   "metadata": {},
   "outputs": [
    {
     "name": "stdout",
     "output_type": "stream",
     "text": [
      "Vector V1= [1 5]\n",
      "Vector V2= \n",
      " [[1]\n",
      " [5]]\n",
      "Resultado de V1+V2 =: \n",
      " [[ 2  6]\n",
      " [ 6 10]]\n"
     ]
    }
   ],
   "source": [
    "#Suma de vectores \n",
    "print(\"Vector V1=\",V1)\n",
    "print(\"Vector V2=\",\"\\n\",V2)\n",
    "print(\"Resultado de V1+V2 =:\",\"\\n\",V1+V2)"
   ]
  },
  {
   "cell_type": "code",
   "execution_count": 41,
   "metadata": {},
   "outputs": [
    {
     "name": "stdout",
     "output_type": "stream",
     "text": [
      "Vector V2: \n",
      " [[1]\n",
      " [5]]\n",
      "Flattened vector V4= \n",
      " [1 5]\n"
     ]
    }
   ],
   "source": [
    "#Flatten vector V2 into V4\n",
    "V4=V2.flatten()\n",
    "print(\"Vector V2:\",\"\\n\",V2)\n",
    "print(\"Flattened vector V4=\",\"\\n\",V4)"
   ]
  },
  {
   "cell_type": "code",
   "execution_count": null,
   "metadata": {},
   "outputs": [],
   "source": []
  }
 ],
 "metadata": {
  "kernelspec": {
   "display_name": "Python 3",
   "language": "python",
   "name": "python3"
  },
  "language_info": {
   "codemirror_mode": {
    "name": "ipython",
    "version": 3
   },
   "file_extension": ".py",
   "mimetype": "text/x-python",
   "name": "python",
   "nbconvert_exporter": "python",
   "pygments_lexer": "ipython3",
   "version": "3.7.6"
  }
 },
 "nbformat": 4,
 "nbformat_minor": 4
}
